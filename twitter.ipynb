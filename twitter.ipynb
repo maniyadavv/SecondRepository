{
 "cells": [
  {
   "cell_type": "code",
   "execution_count": 22,
   "metadata": {},
   "outputs": [
    {
     "ename": "ERROR",
     "evalue": "Error in library(twitteR): there is no package called 'twitteR'\n",
     "output_type": "error",
     "traceback": [
      "Error in library(twitteR): there is no package called 'twitteR'\nTraceback:\n",
      "1. library(twitteR)"
     ]
    }
   ],
   "source": [
    "library(twitteR)\n",
    "\n",
    "null\n",
    "\n",
    "\n",
    "#Setting our Twitter credentials\n",
    "\n",
    "consumer_key        <-  \"AOiqI1HM4iJrrgd5i4WvNpjx4\"\n",
    "consumer_secret     <-  \"9KEFKr6kqdj4cV6iOyIY1iaTHfT1XvrvsLwAU5svLUVjl7xNVy \" \n",
    "access_token        <-  \"840970691935666176-Pg4r5nn6PxVsiz5tyLXFR1zusnnnbAR\"\n",
    "access_token_secret <-  \"7tv9CSVMu9vsWtRW8VGfO8hFShFKbH8Xc77DnttUSPySM\"\n",
    "\n",
    "null\n",
    "\n",
    "setup_twitter_oauth(consumer_ker, consumer_secret, access_token, access_token_secret)\n",
    "manistar97_tweets <- searchTwitter('#manistar97', n=100, lang=\"en\" )\n",
    "\n",
    "\n"
   ]
  },
  {
   "cell_type": "code",
   "execution_count": null,
   "metadata": {},
   "outputs": [],
   "source": []
  },
  {
   "cell_type": "code",
   "execution_count": null,
   "metadata": {},
   "outputs": [],
   "source": []
  },
  {
   "cell_type": "code",
   "execution_count": null,
   "metadata": {},
   "outputs": [],
   "source": []
  },
  {
   "cell_type": "code",
   "execution_count": null,
   "metadata": {},
   "outputs": [],
   "source": []
  },
  {
   "cell_type": "code",
   "execution_count": null,
   "metadata": {},
   "outputs": [],
   "source": []
  }
 ],
 "metadata": {
  "kernelspec": {
   "display_name": "R",
   "language": "R",
   "name": "ir"
  },
  "language_info": {
   "codemirror_mode": "r",
   "file_extension": ".r",
   "mimetype": "text/x-r-source",
   "name": "R",
   "pygments_lexer": "r",
   "version": "3.6.1"
  }
 },
 "nbformat": 4,
 "nbformat_minor": 2
}
