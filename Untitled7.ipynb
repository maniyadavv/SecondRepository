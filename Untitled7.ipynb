{
 "cells": [
  {
   "cell_type": "code",
   "execution_count": 1,
   "metadata": {},
   "outputs": [
    {
     "ename": "ImportError",
     "evalue": "cannot import name 'textblob' from 'textblob' (c:\\users\\manikanta\\appdata\\local\\programs\\python\\python37\\lib\\site-packages\\textblob\\__init__.py)",
     "output_type": "error",
     "traceback": [
      "\u001b[1;31m---------------------------------------------------------------------------\u001b[0m",
      "\u001b[1;31mImportError\u001b[0m                               Traceback (most recent call last)",
      "\u001b[1;32m<ipython-input-1-dd55a7eb9d88>\u001b[0m in \u001b[0;36m<module>\u001b[1;34m\u001b[0m\n\u001b[0;32m      1\u001b[0m \u001b[1;32mimport\u001b[0m \u001b[0mtweepy\u001b[0m\u001b[1;33m\u001b[0m\u001b[1;33m\u001b[0m\u001b[0m\n\u001b[1;32m----> 2\u001b[1;33m \u001b[1;32mfrom\u001b[0m \u001b[0mtextblob\u001b[0m \u001b[1;32mimport\u001b[0m \u001b[0mtextblob\u001b[0m\u001b[1;33m\u001b[0m\u001b[1;33m\u001b[0m\u001b[0m\n\u001b[0m\u001b[0;32m      3\u001b[0m \u001b[1;33m\u001b[0m\u001b[0m\n\u001b[0;32m      4\u001b[0m \u001b[0mconsumer_key\u001b[0m \u001b[1;33m=\u001b[0m \u001b[1;34m'AOiqI1HM4iJrrgd5i4WvNpjx4'\u001b[0m\u001b[1;33m\u001b[0m\u001b[1;33m\u001b[0m\u001b[0m\n\u001b[0;32m      5\u001b[0m \u001b[0mconsumer_secret\u001b[0m \u001b[1;33m=\u001b[0m \u001b[1;34m'9KEFKr6kqdj4cV6iOyIY1iaTHfT1XvrvsLwAU5svLUVjl7xNVy'\u001b[0m\u001b[1;33m\u001b[0m\u001b[1;33m\u001b[0m\u001b[0m\n",
      "\u001b[1;31mImportError\u001b[0m: cannot import name 'textblob' from 'textblob' (c:\\users\\manikanta\\appdata\\local\\programs\\python\\python37\\lib\\site-packages\\textblob\\__init__.py)"
     ]
    }
   ],
   "source": [
    "import tweepy\n",
    "from textblob import textblob\n",
    "\n",
    "consumer_key = 'AOiqI1HM4iJrrgd5i4WvNpjx4'\n",
    "consumer_secret = '9KEFKr6kqdj4cV6iOyIY1iaTHfT1XvrvsLwAU5svLUVjl7xNVy'\n",
    "\n",
    "access_token = '840970691935666176-Pg4r5nn6PxVsiz5tyLXFR1zusnnnbAR'\n",
    "access_token_secret = '7tv9CSVMu9vsWtRW8VGfO8hFShFKbH8Xc77DnttUSPySM'\n",
    "\n",
    "auth = tweepy.OAuthHandler(consumer_key, consumer_secret)\n",
    "auth.set_access_token(access_token, access_token_secret)\n",
    "\n",
    "api = tweepy.API(auth)\n",
    "\n",
    "public_tweets = api.search('Trump')\n",
    "\n",
    "for tweet in public_tweets:\n",
    "    print(tweet.text)\n",
    "    analyis = TextBlob(tweet.text)\n",
    "    print(analysis.sentiment)"
   ]
  },
  {
   "cell_type": "code",
   "execution_count": null,
   "metadata": {},
   "outputs": [],
   "source": []
  }
 ],
 "metadata": {
  "kernelspec": {
   "display_name": "Python 3",
   "language": "python",
   "name": "python3"
  },
  "language_info": {
   "codemirror_mode": {
    "name": "ipython",
    "version": 3
   },
   "file_extension": ".py",
   "mimetype": "text/x-python",
   "name": "python",
   "nbconvert_exporter": "python",
   "pygments_lexer": "ipython3",
   "version": "3.7.3"
  }
 },
 "nbformat": 4,
 "nbformat_minor": 2
}
