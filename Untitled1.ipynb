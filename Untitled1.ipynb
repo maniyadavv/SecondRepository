{
 "cells": [
  {
   "cell_type": "code",
   "execution_count": 1,
   "metadata": {},
   "outputs": [
    {
     "ename": "ERROR",
     "evalue": "Error in parse(text = x, srcfile = src): <text>:8:23: unexpected symbol\n7: consumer_key     <-zHOMxJpkNqct3KgnQucBeLilA\n8: consumer_secret  <-327YrTGtVqkWUdDGealNXxPRc0YNyWaAnvwjXdYX6EkULZ9HqA\n                         ^\n",
     "output_type": "error",
     "traceback": [
      "Error in parse(text = x, srcfile = src): <text>:8:23: unexpected symbol\n7: consumer_key     <-zHOMxJpkNqct3KgnQucBeLilA\n8: consumer_secret  <-327YrTGtVqkWUdDGealNXxPRc0YNyWaAnvwjXdYX6EkULZ9HqA\n                         ^\nTraceback:\n"
     ]


    }
   ],
   "source": [
    "library(twitteR)\n",
    "\n",
    "null\n",
    "\n",
    "#Setting our Twitter credentials\n",
    "\n",
    "consumer_key     <-zHOMxJpkNqct3KgnQucBeLilA\n",
    "consumer_secret    <-327YrTGtVqkWUdDGealNXxPRc0YNyWaAnvwjXdYX6EkULZ9HqA \n",
    "access_token           <-840970691935666176-8V9ZTh7qUIuqwUdXfdbSUfSUtA4DnDL\n",
    "access_token_secret    <-oyJUpTFeFcDRpnicE0YWAjUllWE5fDPzlSrLClTsyJz50\n",
    "\n",
    "null\n",
    "\n",
    "setup_twitter_oauth(consumer_ker, consumer_secret, access_token, access_token_secret)\n",
    "searchTwitter('#manistar97', n=200,lang=\"en\" )\n",
    "\n",
    "\n"
   ]
  },
  {
   "cell_type": "code",
   "execution_count": null,
   "metadata": {},
   "outputs": [],
   "source": []
  }
 ],
 "metadata": {
  "kernelspec": {
   "display_name": "R",
   "language": "R",
   "name": "ir"
  },
  "language_info": {
   "codemirror_mode": "r",
   "file_extension": ".r",
   "mimetype": "text/x-r-source",
   "name": "R",
   "pygments_lexer": "r",
   "version": "3.6.1"
  }
 },
 "nbformat": 4,
 "nbformat_minor": 2
}
